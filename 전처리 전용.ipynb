{
 "cells": [
  {
   "cell_type": "code",
   "execution_count": 1,
   "id": "2d0fa8d7-ede6-4e0d-8cf1-1227b1a36847",
   "metadata": {},
   "outputs": [],
   "source": [
    "import pandas as pd\n",
    "import numpy as np\n",
    "import matplotlib.pyplot as plt\n",
    "import seaborn as sns\n",
    "from sklearn.preprocessing import LabelEncoder\n",
    "from sklearn.model_selection import train_test_split\n",
    "from sklearn.ensemble import RandomForestClassifier\n",
    "from sklearn.metrics import accuracy_score\n",
    "from sklearn.model_selection import GridSearchCV\n",
    "from sklearn.metrics import classification_report\n",
    "from sklearn.metrics import f1_score\n",
    "\n",
    "# 한글깨질 경우\n",
    "plt.rcParams['font.family'] ='Malgun Gothic'\n",
    "plt.rcParams['axes.unicode_minus'] =False\n"
   ]
  },
  {
   "cell_type": "code",
   "execution_count": 2,
   "id": "5a6c5ce7-9bcf-498a-b9f7-4d9142b9ced3",
   "metadata": {},
   "outputs": [],
   "source": [
    "train = pd.read_csv(\"./open-2/train.csv\")\n",
    "test = pd.read_csv(\"./open-2/test.csv\")"
   ]
  },
  {
   "cell_type": "code",
   "execution_count": 4,
   "id": "e435326a-f112-4667-aae0-28d28326bd06",
   "metadata": {},
   "outputs": [],
   "source": [
    "전체 = pd.concat([train, test], axis=0)"
   ]
  },
  {
   "cell_type": "code",
   "execution_count": 74,
   "id": "764eda51-4e54-4504-8c6c-dcd0eeeb530a",
   "metadata": {},
   "outputs": [
    {
     "data": {
      "text/html": [
       "<div>\n",
       "<style scoped>\n",
       "    .dataframe tbody tr th:only-of-type {\n",
       "        vertical-align: middle;\n",
       "    }\n",
       "\n",
       "    .dataframe tbody tr th {\n",
       "        vertical-align: top;\n",
       "    }\n",
       "\n",
       "    .dataframe thead th {\n",
       "        text-align: right;\n",
       "    }\n",
       "</style>\n",
       "<table border=\"1\" class=\"dataframe\">\n",
       "  <thead>\n",
       "    <tr style=\"text-align: right;\">\n",
       "      <th></th>\n",
       "      <th>ID</th>\n",
       "      <th>매물확인방식</th>\n",
       "      <th>보증금</th>\n",
       "      <th>월세</th>\n",
       "      <th>전용면적</th>\n",
       "      <th>해당층</th>\n",
       "      <th>총층</th>\n",
       "      <th>방향</th>\n",
       "      <th>방수</th>\n",
       "      <th>욕실수</th>\n",
       "      <th>주차가능여부</th>\n",
       "      <th>총주차대수</th>\n",
       "      <th>관리비</th>\n",
       "      <th>중개사무소</th>\n",
       "      <th>제공플랫폼</th>\n",
       "      <th>게재일</th>\n",
       "      <th>허위매물여부</th>\n",
       "    </tr>\n",
       "  </thead>\n",
       "  <tbody>\n",
       "    <tr>\n",
       "      <th>0</th>\n",
       "      <td>0</td>\n",
       "      <td>0</td>\n",
       "      <td>0</td>\n",
       "      <td>0</td>\n",
       "      <td>971</td>\n",
       "      <td>279</td>\n",
       "      <td>18</td>\n",
       "      <td>0</td>\n",
       "      <td>18</td>\n",
       "      <td>20</td>\n",
       "      <td>0</td>\n",
       "      <td>871</td>\n",
       "      <td>0</td>\n",
       "      <td>0</td>\n",
       "      <td>0</td>\n",
       "      <td>0</td>\n",
       "      <td>613</td>\n",
       "    </tr>\n",
       "  </tbody>\n",
       "</table>\n",
       "</div>"
      ],
      "text/plain": [
       "   ID  매물확인방식  보증금  월세  전용면적  해당층  총층  방향  방수  욕실수  주차가능여부  총주차대수  관리비  중개사무소  \\\n",
       "0   0       0    0   0   971  279  18   0  18   20       0    871    0      0   \n",
       "\n",
       "   제공플랫폼  게재일  허위매물여부  \n",
       "0      0    0     613  "
      ]
     },
     "execution_count": 74,
     "metadata": {},
     "output_type": "execute_result"
    }
   ],
   "source": [
    "full = pd.concat( [train, test], axis=0 )\n",
    "pd.DataFrame( full.isnull().sum() ).T"
   ]
  },
  {
   "cell_type": "code",
   "execution_count": 76,
   "id": "9d839ecf-e192-4f5b-a5d8-912b65015111",
   "metadata": {},
   "outputs": [],
   "source": [
    "# 전처리\n",
    "# 전용면적, 해당층, 총층, 방수, 욕실수, 총주차대수\n",
    "full['전용면적'] = full['전용면적'].fillna(full['전용면적'].mean())\n",
    "full['해당층'] = full['해당층'].fillna(full['해당층'].mode()[0])\n",
    "full['총층'] =full['총층'].fillna(full['총층'].mode()[0])\n",
    "full['방수'] = full['방수'].fillna(full['방수'].mode()[0])\n",
    "full['욕실수'] = full['욕실수'].fillna(full['욕실수'].mode()[0])\n",
    "full['총주차대수'] = full['총주차대수'].fillna(full['총주차대수'].mean())"
   ]
  },
  {
   "cell_type": "code",
   "execution_count": 77,
   "id": "01c7dcff-f816-4f04-b421-0da12aac0448",
   "metadata": {},
   "outputs": [
    {
     "data": {
      "text/html": [
       "<div>\n",
       "<style scoped>\n",
       "    .dataframe tbody tr th:only-of-type {\n",
       "        vertical-align: middle;\n",
       "    }\n",
       "\n",
       "    .dataframe tbody tr th {\n",
       "        vertical-align: top;\n",
       "    }\n",
       "\n",
       "    .dataframe thead th {\n",
       "        text-align: right;\n",
       "    }\n",
       "</style>\n",
       "<table border=\"1\" class=\"dataframe\">\n",
       "  <thead>\n",
       "    <tr style=\"text-align: right;\">\n",
       "      <th></th>\n",
       "      <th>ID</th>\n",
       "      <th>매물확인방식</th>\n",
       "      <th>보증금</th>\n",
       "      <th>월세</th>\n",
       "      <th>전용면적</th>\n",
       "      <th>해당층</th>\n",
       "      <th>총층</th>\n",
       "      <th>방향</th>\n",
       "      <th>방수</th>\n",
       "      <th>욕실수</th>\n",
       "      <th>주차가능여부</th>\n",
       "      <th>총주차대수</th>\n",
       "      <th>관리비</th>\n",
       "      <th>중개사무소</th>\n",
       "      <th>제공플랫폼</th>\n",
       "      <th>게재일</th>\n",
       "      <th>허위매물여부</th>\n",
       "    </tr>\n",
       "  </thead>\n",
       "  <tbody>\n",
       "    <tr>\n",
       "      <th>0</th>\n",
       "      <td>0</td>\n",
       "      <td>0</td>\n",
       "      <td>0</td>\n",
       "      <td>0</td>\n",
       "      <td>0</td>\n",
       "      <td>0</td>\n",
       "      <td>0</td>\n",
       "      <td>0</td>\n",
       "      <td>0</td>\n",
       "      <td>0</td>\n",
       "      <td>0</td>\n",
       "      <td>0</td>\n",
       "      <td>0</td>\n",
       "      <td>0</td>\n",
       "      <td>0</td>\n",
       "      <td>0</td>\n",
       "      <td>613</td>\n",
       "    </tr>\n",
       "  </tbody>\n",
       "</table>\n",
       "</div>"
      ],
      "text/plain": [
       "   ID  매물확인방식  보증금  월세  전용면적  해당층  총층  방향  방수  욕실수  주차가능여부  총주차대수  관리비  중개사무소  \\\n",
       "0   0       0    0   0     0    0   0   0   0    0       0      0    0      0   \n",
       "\n",
       "   제공플랫폼  게재일  허위매물여부  \n",
       "0      0    0     613  "
      ]
     },
     "execution_count": 77,
     "metadata": {},
     "output_type": "execute_result"
    }
   ],
   "source": [
    "# 결측치 다시 확인\n",
    "pd.DataFrame( full.isnull().sum() ).T"
   ]
  },
  {
   "cell_type": "markdown",
   "id": "4ee23784-1749-4979-bca5-06b0180fa2e9",
   "metadata": {},
   "source": [
    "### 1번 방식의 전처리"
   ]
  },
  {
   "cell_type": "code",
   "execution_count": 90,
   "id": "5726bc7a-1f7d-43e6-8246-b7a853b78be9",
   "metadata": {},
   "outputs": [],
   "source": [
    "full = pd.concat( [train, test], axis=0 )\n",
    "\n",
    "# 전처리 (전용면적, 해당층, 총층, 방수, 욕실수, 총주차대수)\n",
    "full['전용면적'] = full['전용면적'].fillna(full['전용면적'].mean())\n",
    "full['해당층'] = full['해당층'].fillna(full['해당층'].mode()[0])\n",
    "full['총층'] =full['총층'].fillna(full['총층'].mode()[0])\n",
    "full['방수'] = full['방수'].fillna(full['방수'].mode()[0])\n",
    "full['욕실수'] = full['욕실수'].fillna(full['욕실수'].mode()[0])\n",
    "full['총주차대수'] = full['총주차대수'].fillna(full['총주차대수'].mean())\n",
    "\n",
    "# 설명변수 추가\n",
    "full['게재년'] = pd.to_datetime(full['게재일']).dt.year\n",
    "full['게재월'] = pd.to_datetime(full['게재일']).dt.month\n",
    "\n",
    "# 필요없는 데이터 삭제 (제공플랫폼, 게재일, ID)\n",
    "full_dropped = full.drop(['제공플랫폼','게재일','ID'], axis=1)\n",
    "\n",
    "# 인코딩\n",
    "encoder = LabelEncoder()\n",
    "cols = ['매물확인방식','방향','주차가능여부','중개사무소']\n",
    "full_dropped[cols] = full_dropped[cols].apply(encoder.fit_transform)\n",
    "\n",
    "# 데이터 원복\n",
    "트레인 = full_dropped[:train.shape[0]]\n",
    "테스트 = full_dropped[train.shape[0]:].drop(['허위매물여부'], axis=1)"
   ]
  },
  {
   "cell_type": "markdown",
   "id": "5986a464-11b6-4c06-ade6-4f74669f7250",
   "metadata": {
    "tags": []
   },
   "source": [
    "### 2번 방식의 전처리"
   ]
  },
  {
   "cell_type": "code",
   "execution_count": null,
   "id": "46d81172-ba30-4928-9149-21b08eac10ad",
   "metadata": {},
   "outputs": [],
   "source": [
    "full = pd.concat( [train, test], axis=0 )\n",
    "\n",
    "# 전처리 (전용면적, 해당층, 총층, 방수, 욕실수, 총주차대수)\n",
    "# 전처리 (전용면적, 해당층, 총층, 방수, 욕실수, 총주차대수)\n",
    "full[['전용면적','해당층','방수','욕실수','총주차대수']] = full[['전용면적','해당층','방수','욕실수','총주차대수']].fillna(0)\n",
    "full[['총층']] = full[['총층']].fillna(full['총층'].mean())\n",
    "\n",
    "# 설명변수 추가\n",
    "full['게재년'] = pd.to_datetime(full['게재일']).dt.year\n",
    "full['게재월'] = pd.to_datetime(full['게재일']).dt.month\n",
    "\n",
    "# 필요없는 데이터 삭제 (제공플랫폼, 게재일, ID)\n",
    "full_dropped = full.drop(['제공플랫폼','게재일','ID'], axis=1)\n",
    "\n",
    "# 인코딩\n",
    "encoder = LabelEncoder()\n",
    "cols = ['매물확인방식','방향','주차가능여부','중개사무소']\n",
    "full_dropped[cols] = full_dropped[cols].apply(encoder.fit_transform)\n",
    "\n",
    "# 데이터 원복\n",
    "트레인 = full_dropped[:train.shape[0]]\n",
    "테스트 = full_dropped[train.shape[0]:].drop(['허위매물여부'], axis=1)"
   ]
  },
  {
   "cell_type": "markdown",
   "id": "d358d7f7-3219-4a19-9c33-da945def5738",
   "metadata": {},
   "source": [
    "### 3번 방식의 전처리"
   ]
  },
  {
   "cell_type": "code",
   "execution_count": 118,
   "id": "aff4b833-05b4-4bc1-a114-9bd9d0a9bef5",
   "metadata": {},
   "outputs": [],
   "source": [
    "mapping = {'북동향': 1,\n",
    "           '북서향': 3, \n",
    "           '남동향': 7, \n",
    "           '남향': 6, \n",
    "           '북향': 2, \n",
    "           '동향': 0, \n",
    "           '남서향': 5, \n",
    "           '서향': 4,\n",
    "          }\n",
    "\n",
    "full = pd.concat( [train, test], axis=0 )\n",
    "\n",
    "# 전처리 (전용면적, 해당층, 총층, 방수, 욕실수, 총주차대수)\n",
    "# 전처리 (전용면적, 해당층, 총층, 방수, 욕실수, 총주차대수)\n",
    "full[['전용면적','해당층','방수','욕실수','총주차대수']] = full[['전용면적','해당층','방수','욕실수','총주차대수']].fillna(0)\n",
    "full[['총층']] = full[['총층']].fillna(full['총층'].mean())\n",
    "\n",
    "# 설명변수 추가\n",
    "full['게재년'] = pd.to_datetime(full['게재일']).dt.year\n",
    "full['게재월'] = pd.to_datetime(full['게재일']).dt.month\n",
    "\n",
    "# 필요없는 데이터 삭제 (제공플랫폼, 게재일, ID)\n",
    "full_dropped = full.drop(['제공플랫폼','게재일','ID'], axis=1)\n",
    "\n",
    "# 인코딩\n",
    "encoder = LabelEncoder()\n",
    "cols = ['매물확인방식','주차가능여부','중개사무소']\n",
    "full_dropped[cols] = full_dropped[cols].apply(encoder.fit_transform)\n",
    "full_dropped['방향'] = full_dropped.방향.map(mapping)\n",
    "\n",
    "# 데이터 원복\n",
    "트레인 = full_dropped[:train.shape[0]]\n",
    "테스트 = full_dropped[train.shape[0]:].drop(['허위매물여부'], axis=1)"
   ]
  },
  {
   "cell_type": "markdown",
   "id": "3a36cb93-b260-431a-9e87-d352d8376e9c",
   "metadata": {},
   "source": [
    "### 4번 방식의 전처리"
   ]
  },
  {
   "cell_type": "code",
   "execution_count": 123,
   "id": "e24a0da6-1adc-458e-9b8b-ecb4fd320fef",
   "metadata": {},
   "outputs": [],
   "source": [
    "mapping = {'북동향': 1,\n",
    "           '북서향': 3, \n",
    "           '남동향': 7, \n",
    "           '남향': 6, \n",
    "           '북향': 2, \n",
    "           '동향': 0, \n",
    "           '남서향': 5, \n",
    "           '서향': 4,\n",
    "          }\n",
    "\n",
    "full = pd.concat( [train, test], axis=0 )\n",
    "\n",
    "# 전처리 (전용면적, 해당층, 총층, 방수, 욕실수, 총주차대수)\n",
    "# 전처리 (전용면적, 해당층, 총층, 방수, 욕실수, 총주차대수)\n",
    "full[['전용면적','해당층','방수','욕실수','총주차대수']] = full[['전용면적','해당층','방수','욕실수','총주차대수']].fillna(0)\n",
    "full[['총층']] = full[['총층']].fillna(full['총층'].mean())\n",
    "\n",
    "# 설명변수 추가\n",
    "full['게재년'] = pd.to_datetime(full['게재일']).dt.year\n",
    "full['게재월'] = pd.to_datetime(full['게재일']).dt.month\n",
    "\n",
    "# 게재일 변환\n",
    "full['게재일'] = pd.to_datetime(full.게재일).apply(lambda x : x.timestamp())\n",
    "\n",
    "# 필요없는 데이터 삭제 (제공플랫폼, 게재일, ID)\n",
    "full_dropped = full.drop(['제공플랫폼','ID'], axis=1)\n",
    "\n",
    "\n",
    "\n",
    "# 인코딩\n",
    "encoder = LabelEncoder()\n",
    "cols = ['매물확인방식','주차가능여부','중개사무소']\n",
    "full_dropped[cols] = full_dropped[cols].apply(encoder.fit_transform)\n",
    "full_dropped['방향'] = full_dropped.방향.map(mapping)\n",
    "\n",
    "# 데이터 원복\n",
    "트레인 = full_dropped[:train.shape[0]]\n",
    "테스트 = full_dropped[train.shape[0]:].drop(['허위매물여부'], axis=1)"
   ]
  },
  {
   "cell_type": "code",
   "execution_count": 124,
   "id": "bd5b3636-2914-4de3-bb66-f8cbb1b13fed",
   "metadata": {},
   "outputs": [
    {
     "name": "stdout",
     "output_type": "stream",
     "text": [
      "(2452, 17) (613, 16)\n"
     ]
    }
   ],
   "source": [
    "print(트레인.shape, 테스트.shape)"
   ]
  },
  {
   "cell_type": "markdown",
   "id": "60cdf0ee-cb56-42c1-b5df-55f9c36bae2a",
   "metadata": {},
   "source": [
    "## 전처리 후 여기부터 시작"
   ]
  },
  {
   "cell_type": "code",
   "execution_count": 125,
   "id": "fc97888d-05d8-414d-8fe6-99bc8b5bccec",
   "metadata": {},
   "outputs": [],
   "source": [
    "# 데이터 나누기\n",
    "x = 트레인.drop(['허위매물여부'], axis=1)\n",
    "y = 트레인['허위매물여부']"
   ]
  },
  {
   "cell_type": "code",
   "execution_count": 126,
   "id": "1476b488-0917-45a3-ba27-9e28f4841075",
   "metadata": {},
   "outputs": [
    {
     "name": "stdout",
     "output_type": "stream",
     "text": [
      "Fitting 5 folds for each of 1176 candidates, totalling 5880 fits\n",
      "최적의 하이퍼파라미터: {'max_depth': 15, 'min_samples_leaf': 2, 'min_samples_split': 2, 'n_estimators': 175}\n",
      "              precision    recall  f1-score   support\n",
      "\n",
      "         0.0       0.97      0.98      0.97       428\n",
      "         1.0       0.86      0.76      0.81        63\n",
      "\n",
      "    accuracy                           0.95       491\n",
      "   macro avg       0.91      0.87      0.89       491\n",
      "weighted avg       0.95      0.95      0.95       491\n",
      "\n",
      "0.8900357361948255\n"
     ]
    }
   ],
   "source": [
    "# 전처리 끝났으니 데이터 학습 및 점수확인\n",
    "x_train, x_val, y_train, y_val = train_test_split(x, y, test_size=0.2, random_state=42)\n",
    "\n",
    "model = RandomForestClassifier(random_state=42)\n",
    "\n",
    "# (1차 마무리단계)최적모델 찾기\n",
    "# 평가할 하이퍼파라미터 범위 설정\n",
    "param_grid = {\n",
    "    'n_estimators': [50, 75, 100, 125, 150, 175, 200],  # 트리 개수\n",
    "    'max_depth': [None, 5, 10, 15, 20, 25, 30],  # 트리 최대 깊이\n",
    "    'min_samples_split': [2, 3, 4, 5, 7, 10],  # 노드를 분할하는데 필요한 최소 샘플 수\n",
    "    'min_samples_leaf': [1, 2, 4, 4]     # 리프 노드의 최소 샘플 수\n",
    "}\n",
    "# 그리드 서치 객체 생성 (교차 검증 5번 진행)\n",
    "grid_search = GridSearchCV(estimator=model, param_grid=param_grid, cv=5, n_jobs=-1, verbose=1, scoring='f1_macro')\n",
    "\n",
    "# 그리드 서치를 이용한 학습\n",
    "grid_search.fit(x_train, y_train)\n",
    "\n",
    "# 최적의 하이퍼파라미터 출력\n",
    "print(\"최적의 하이퍼파라미터:\", grid_search.best_params_)\n",
    "\n",
    "# 최적 모델을 사용한 테스트 성능 평가\n",
    "best_model = grid_search.best_estimator_\n",
    "y_pred = best_model.predict(x_val)\n",
    "print(classification_report(y_val, y_pred))\n",
    "\n",
    "# 점수확인\n",
    "best_model = grid_search.best_estimator_\n",
    "y_pred = best_model.predict(x_val)\n",
    "macro_f1 = f1_score(y_val, y_pred, average='macro')\n",
    "print(macro_f1)"
   ]
  },
  {
   "cell_type": "code",
   "execution_count": null,
   "id": "e682b71b-7772-4e09-b58d-e8136748858d",
   "metadata": {},
   "outputs": [],
   "source": [
    "# 1번\n",
    "# Fitting 5 folds for each of 1176 candidates, totalling 5880 fits\n",
    "# 최적의 하이퍼파라미터: {'max_depth': 15, 'min_samples_leaf': 1, 'min_samples_split': 3, 'n_estimators': 150}\n",
    "#               precision    recall  f1-score   support\n",
    "\n",
    "#          0.0       0.93      0.98      0.96       428\n",
    "#          1.0       0.82      0.49      0.61        63\n",
    "\n",
    "#     accuracy                           0.92       491\n",
    "#    macro avg       0.87      0.74      0.78       491\n",
    "# weighted avg       0.91      0.92      0.91       491\n",
    "\n",
    "# 0.784796754363291\n",
    "\n",
    "# 2번\n",
    "# Fitting 5 folds for each of 1176 candidates, totalling 5880 fits\n",
    "# 최적의 하이퍼파라미터: {'max_depth': None, 'min_samples_leaf': 1, 'min_samples_split': 2, 'n_estimators': 125}\n",
    "#               precision    recall  f1-score   support\n",
    "\n",
    "#          0.0       0.93      0.98      0.96       428\n",
    "#          1.0       0.82      0.52      0.64        63\n",
    "\n",
    "#     accuracy                           0.92       491\n",
    "#    macro avg       0.88      0.75      0.80       491\n",
    "# weighted avg       0.92      0.92      0.92       491\n",
    "\n",
    "# 0.799341705601025\n",
    "\n",
    "# 3번\n",
    "# Fitting 5 folds for each of 1176 candidates, totalling 5880 fits\n",
    "# 최적의 하이퍼파라미터: {'max_depth': 15, 'min_samples_leaf': 1, 'min_samples_split': 3, 'n_estimators': 150}\n",
    "#               precision    recall  f1-score   support\n",
    "\n",
    "#          0.0       0.92      0.98      0.95       428\n",
    "#          1.0       0.80      0.44      0.57        63\n",
    "\n",
    "#     accuracy                           0.91       491\n",
    "#    macro avg       0.86      0.71      0.76       491\n",
    "# weighted avg       0.91      0.91      0.90       491\n",
    "\n",
    "# 0.7619586296056884\n",
    "\n",
    "# 4번\n",
    "# Fitting 5 folds for each of 1176 candidates, totalling 5880 fits\n",
    "# 최적의 하이퍼파라미터: {'max_depth': 15, 'min_samples_leaf': 2, 'min_samples_split': 2, 'n_estimators': 175}\n",
    "#               precision    recall  f1-score   support\n",
    "\n",
    "#          0.0       0.97      0.98      0.97       428\n",
    "#          1.0       0.86      0.76      0.81        63\n",
    "\n",
    "#     accuracy                           0.95       491\n",
    "#    macro avg       0.91      0.87      0.89       491\n",
    "# weighted avg       0.95      0.95      0.95       491\n",
    "\n",
    "# 0.8900357361948255"
   ]
  },
  {
   "cell_type": "markdown",
   "id": "878802c7-7936-4e84-aa82-11622301153f",
   "metadata": {},
   "source": [
    "### 괜찮은 모델 제출해보기"
   ]
  },
  {
   "cell_type": "code",
   "execution_count": 128,
   "id": "a650e9a2-6b54-45ee-a024-a049a4f3f84d",
   "metadata": {},
   "outputs": [],
   "source": [
    "# answer 만들기\n",
    "for_id = pd.read_csv(\"./open-2/test.csv\")\n",
    "imsi = best_model.predict(테스트)\n",
    "imsi = pd.DataFrame(imsi, columns=['허위매물여부'])\n",
    "answer = pd.concat([for_id[['ID']], imsi], axis=1)\n",
    "answer.to_csv('25012201.csv', index=False, encoding='utf-8-sig')"
   ]
  },
  {
   "cell_type": "code",
   "execution_count": null,
   "id": "539c0e9b-4341-4690-afc9-2db0278143b1",
   "metadata": {},
   "outputs": [],
   "source": []
  },
  {
   "cell_type": "code",
   "execution_count": null,
   "id": "f64d4034-392a-4544-bb00-85b45a2be758",
   "metadata": {},
   "outputs": [],
   "source": []
  },
  {
   "cell_type": "code",
   "execution_count": null,
   "id": "77728aaa-6cb1-47e2-ba5b-070fe90cfbfd",
   "metadata": {},
   "outputs": [],
   "source": []
  },
  {
   "cell_type": "code",
   "execution_count": null,
   "id": "e0b9e8be-c65c-4c31-8d90-9a309aca5829",
   "metadata": {},
   "outputs": [],
   "source": []
  }
 ],
 "metadata": {
  "kernelspec": {
   "display_name": "Python 3 (ipykernel)",
   "language": "python",
   "name": "python3"
  },
  "language_info": {
   "codemirror_mode": {
    "name": "ipython",
    "version": 3
   },
   "file_extension": ".py",
   "mimetype": "text/x-python",
   "name": "python",
   "nbconvert_exporter": "python",
   "pygments_lexer": "ipython3",
   "version": "3.9.13"
  },
  "widgets": {
   "application/vnd.jupyter.widget-state+json": {
    "state": {},
    "version_major": 2,
    "version_minor": 0
   }
  }
 },
 "nbformat": 4,
 "nbformat_minor": 5
}
