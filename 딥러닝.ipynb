{
 "cells": [
  {
   "cell_type": "code",
   "execution_count": 34,
   "id": "09cc4507-e1d3-4007-bcc0-e92763fb1397",
   "metadata": {},
   "outputs": [
    {
     "ename": "AttributeError",
     "evalue": "module 'tensorflow' has no attribute 'keras'",
     "output_type": "error",
     "traceback": [
      "\u001b[0;31m---------------------------------------------------------------------------\u001b[0m",
      "\u001b[0;31mAttributeError\u001b[0m                            Traceback (most recent call last)",
      "Cell \u001b[0;32mIn[34], line 3\u001b[0m\n\u001b[1;32m      1\u001b[0m \u001b[38;5;28;01mimport\u001b[39;00m \u001b[38;5;21;01mtensorflow\u001b[39;00m \u001b[38;5;28;01mas\u001b[39;00m \u001b[38;5;21;01mtf\u001b[39;00m\n\u001b[1;32m      2\u001b[0m \u001b[38;5;66;03m# 모델 정의\u001b[39;00m\n\u001b[0;32m----> 3\u001b[0m model \u001b[38;5;241m=\u001b[39m \u001b[43mtf\u001b[49m\u001b[38;5;241;43m.\u001b[39;49m\u001b[43mkeras\u001b[49m\u001b[38;5;241m.\u001b[39mSequential([\n\u001b[1;32m      4\u001b[0m     keras(\u001b[38;5;241m50\u001b[39m, activation\u001b[38;5;241m=\u001b[39m\u001b[38;5;124m'\u001b[39m\u001b[38;5;124mrelu\u001b[39m\u001b[38;5;124m'\u001b[39m, input_shape\u001b[38;5;241m=\u001b[39m(\u001b[38;5;241m10\u001b[39m,)),\n\u001b[1;32m      5\u001b[0m     keras\u001b[38;5;241m.\u001b[39mlayers\u001b[38;5;241m.\u001b[39mDense(\u001b[38;5;241m1\u001b[39m)\n\u001b[1;32m      6\u001b[0m ])\n\u001b[1;32m      8\u001b[0m \u001b[38;5;66;03m# 모델 컴파일\u001b[39;00m\n\u001b[1;32m      9\u001b[0m model\u001b[38;5;241m.\u001b[39mcompile(optimizer\u001b[38;5;241m=\u001b[39m\u001b[38;5;124m'\u001b[39m\u001b[38;5;124madam\u001b[39m\u001b[38;5;124m'\u001b[39m, loss\u001b[38;5;241m=\u001b[39m\u001b[38;5;124m'\u001b[39m\u001b[38;5;124mmse\u001b[39m\u001b[38;5;124m'\u001b[39m)\n",
      "\u001b[0;31mAttributeError\u001b[0m: module 'tensorflow' has no attribute 'keras'"
     ]
    }
   ],
   "source": [
    "\n",
    "import tensorflow as tf\n",
    "# 모델 정의\n",
    "model = tf.keras.Sequential([\n",
    "    keras(50, activation='relu', input_shape=(10,)),\n",
    "    keras.layers.Dense(1)\n",
    "])\n",
    "\n",
    "# 모델 컴파일\n",
    "model.compile(optimizer='adam', loss='mse')\n",
    "\n",
    "# 모델 학습\n",
    "model.fit(x_train, y_train, epochs=5)"
   ]
  },
  {
   "cell_type": "code",
   "execution_count": 27,
   "id": "62c7fd37-2d34-496b-997f-af5fa62c6a3b",
   "metadata": {},
   "outputs": [
    {
     "name": "stdout",
     "output_type": "stream",
     "text": [
      "Name: tensorflow\n",
      "Version: 2.9.0\n",
      "Summary: TensorFlow is an open source machine learning framework for everyone.\n",
      "Home-page: https://www.tensorflow.org/\n",
      "Author: Google Inc.\n",
      "Author-email: packages@tensorflow.org\n",
      "License: Apache 2.0\n",
      "Location: /Users/silverstar/opt/anaconda3/lib/python3.9/site-packages\n",
      "Requires: absl-py, astunparse, flatbuffers, gast, google-pasta, grpcio, h5py, keras, keras-preprocessing, libclang, numpy, opt-einsum, packaging, protobuf, setuptools, six, tensorboard, tensorflow-estimator, tensorflow-io-gcs-filesystem, termcolor, typing-extensions, wrapt\n",
      "Required-by: \n",
      "Note: you may need to restart the kernel to use updated packages.\n"
     ]
    }
   ],
   "source": [
    "pip show tensorflow"
   ]
  },
  {
   "cell_type": "code",
   "execution_count": 1,
   "id": "de301585-cd44-4f6b-8737-7006fad988bd",
   "metadata": {},
   "outputs": [],
   "source": [
    "import pandas as pd\n",
    "import numpy as np"
   ]
  },
  {
   "cell_type": "code",
   "execution_count": null,
   "id": "b9a2ec01-d74f-4f01-b812-d5272215462c",
   "metadata": {},
   "outputs": [],
   "source": [
    "import tensorflow as tf"
   ]
  },
  {
   "cell_type": "code",
   "execution_count": 1,
   "id": "e17968a3-c496-40e5-8beb-cc601105613b",
   "metadata": {},
   "outputs": [],
   "source": [
    "import os\n",
    "os.environ['KMP_DUPLICATE_LIB_OK']='True'"
   ]
  },
  {
   "cell_type": "code",
   "execution_count": 1,
   "id": "8cadeef7-7984-4c23-b592-2ebce43b6eab",
   "metadata": {},
   "outputs": [
    {
     "name": "stdout",
     "output_type": "stream",
     "text": [
      "\u001b[33mWARNING: Package(s) not found: tensorflw\u001b[0m\u001b[33m\n",
      "\u001b[0mNote: you may need to restart the kernel to use updated packages.\n"
     ]
    }
   ],
   "source": [
    "pip show tensorflw"
   ]
  },
  {
   "cell_type": "code",
   "execution_count": 2,
   "id": "5791d5ba-fb13-48bb-85f7-f02a4c48624e",
   "metadata": {},
   "outputs": [],
   "source": [
    "import os\n",
    "os.environ['KMP_DUPLICATE_LIB_OK']='True' #1\n",
    "os.environ[\"CUDA_VISIBLE_DEVICES\"]=\"0\" #2"
   ]
  },
  {
   "cell_type": "code",
   "execution_count": 2,
   "id": "4b943a01-f5f7-4ad0-a685-0a1db32929b0",
   "metadata": {},
   "outputs": [
    {
     "name": "stdout",
     "output_type": "stream",
     "text": [
      "Collecting numpy==1.22.0\n",
      "  Downloading numpy-1.22.0-cp39-cp39-macosx_10_9_x86_64.whl (17.7 MB)\n",
      "\u001b[2K     \u001b[90m━━━━━━━━━━━━━━━━━━━━━━━━━━━━━━━━━━━━━━━━\u001b[0m \u001b[32m17.7/17.7 MB\u001b[0m \u001b[31m2.6 MB/s\u001b[0m eta \u001b[36m0:00:00\u001b[0m00:01\u001b[0m00:01\u001b[0m\n",
      "\u001b[?25hInstalling collected packages: numpy\n",
      "  Attempting uninstall: numpy\n",
      "    Found existing installation: numpy 1.26.4\n",
      "    Uninstalling numpy-1.26.4:\n",
      "      Successfully uninstalled numpy-1.26.4\n",
      "\u001b[31mERROR: pip's dependency resolver does not currently take into account all the packages that are installed. This behaviour is the source of the following dependency conflicts.\n",
      "tables 3.8.0 requires blosc2~=2.0.0, which is not installed.\n",
      "finance-datareader 0.9.50 requires requests-file, which is not installed.\n",
      "tensorflow 2.16.2 requires numpy<2.0.0,>=1.23.5; python_version <= \"3.11\", but you have numpy 1.22.0 which is incompatible.\n",
      "roboflow 0.2.20 requires certifi==2021.5.30, but you have certifi 2025.1.31 which is incompatible.\n",
      "roboflow 0.2.20 requires cycler==0.10.0, but you have cycler 0.11.0 which is incompatible.\n",
      "roboflow 0.2.20 requires idna==2.10, but you have idna 3.10 which is incompatible.\n",
      "roboflow 0.2.20 requires pyparsing==2.4.7, but you have pyparsing 3.0.9 which is incompatible.\n",
      "roboflow 0.2.20 requires urllib3==1.26.6, but you have urllib3 2.3.0 which is incompatible.\u001b[0m\u001b[31m\n",
      "\u001b[0mSuccessfully installed numpy-1.22.0\n",
      "Note: you may need to restart the kernel to use updated packages.\n"
     ]
    }
   ],
   "source": [
    "pip install numpy==1.22.0"
   ]
  },
  {
   "cell_type": "code",
   "execution_count": 3,
   "id": "d113025c-7042-4b0a-b391-6855acdebf0e",
   "metadata": {},
   "outputs": [
    {
     "name": "stdout",
     "output_type": "stream",
     "text": [
      "Collecting urllib3==1.26.6\n",
      "  Using cached urllib3-1.26.6-py2.py3-none-any.whl (138 kB)\n",
      "Installing collected packages: urllib3\n",
      "  Attempting uninstall: urllib3\n",
      "    Found existing installation: urllib3 2.3.0\n",
      "    Uninstalling urllib3-2.3.0:\n",
      "      Successfully uninstalled urllib3-2.3.0\n",
      "\u001b[31mERROR: pip's dependency resolver does not currently take into account all the packages that are installed. This behaviour is the source of the following dependency conflicts.\n",
      "finance-datareader 0.9.50 requires requests-file, which is not installed.\n",
      "conda-repo-cli 1.0.41 requires requests_mock, which is not installed.\n",
      "chart-studio 1.1.0 requires plotly, which is not installed.\n",
      "roboflow 0.2.20 requires certifi==2021.5.30, but you have certifi 2025.1.31 which is incompatible.\n",
      "roboflow 0.2.20 requires cycler==0.10.0, but you have cycler 0.11.0 which is incompatible.\n",
      "roboflow 0.2.20 requires idna==2.10, but you have idna 3.10 which is incompatible.\n",
      "roboflow 0.2.20 requires pyparsing==2.4.7, but you have pyparsing 3.0.9 which is incompatible.\n",
      "conda-repo-cli 1.0.41 requires clyent==1.2.1, but you have clyent 1.2.2 which is incompatible.\n",
      "conda-repo-cli 1.0.41 requires nbformat==5.4.0, but you have nbformat 5.7.0 which is incompatible.\n",
      "conda-repo-cli 1.0.41 requires requests==2.28.1, but you have requests 2.32.3 which is incompatible.\u001b[0m\u001b[31m\n",
      "\u001b[0mSuccessfully installed urllib3-1.26.6\n",
      "Note: you may need to restart the kernel to use updated packages.\n"
     ]
    }
   ],
   "source": [
    "pip install urllib3==1.26.6  # urllib3 버전 맞추기\n"
   ]
  },
  {
   "cell_type": "code",
   "execution_count": null,
   "id": "e4b7186f-70ac-4f31-bec3-fe6e355cad01",
   "metadata": {},
   "outputs": [],
   "source": [
    "pip install numpy==1.22.0  # scipy와 호환되는 numpy 버전 설치\n",
    "pip install urllib3==1.26.6  # urllib3 버전 맞추기\n",
    "pip install certifi==2021.5.30  # roboflow의 요구 사항에 맞추기\n",
    "pip install pyparsing==2.4.7  # roboflow의 요구 사항에 맞추기\n",
    "pip install requests==2.28.1  # conda-repo-cli의 요구 사항에 맞추기"
   ]
  },
  {
   "cell_type": "code",
   "execution_count": null,
   "id": "67d82670-e951-4634-b7f1-4fe55d6cd5db",
   "metadata": {},
   "outputs": [],
   "source": [
    "from tensorflow import keras"
   ]
  },
  {
   "cell_type": "code",
   "execution_count": null,
   "id": "abd00bb4-ad8c-4c22-95e8-cb5e759b2a60",
   "metadata": {},
   "outputs": [],
   "source": []
  }
 ],
 "metadata": {
  "kernelspec": {
   "display_name": "Python 3 (ipykernel)",
   "language": "python",
   "name": "python3"
  },
  "language_info": {
   "codemirror_mode": {
    "name": "ipython",
    "version": 3
   },
   "file_extension": ".py",
   "mimetype": "text/x-python",
   "name": "python",
   "nbconvert_exporter": "python",
   "pygments_lexer": "ipython3",
   "version": "3.9.13"
  },
  "widgets": {
   "application/vnd.jupyter.widget-state+json": {
    "state": {},
    "version_major": 2,
    "version_minor": 0
   }
  }
 },
 "nbformat": 4,
 "nbformat_minor": 5
}
